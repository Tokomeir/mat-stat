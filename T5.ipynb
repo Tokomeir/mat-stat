{
 "cells": [
  {
   "cell_type": "code",
   "execution_count": 16,
   "id": "fcbc6107",
   "metadata": {},
   "outputs": [],
   "source": [
    "from random import randint\n",
    "import numpy as np\n",
    "import statistics as st\n",
    "from scipy.stats import moment\n",
    "from scipy import integrate"
   ]
  },
  {
   "cell_type": "code",
   "execution_count": 17,
   "id": "93d128b8",
   "metadata": {},
   "outputs": [],
   "source": [
    "def randvals(probability, tetha):\n",
    "    return (1 - probability)**(1/(1 - tetha))"
   ]
  },
  {
   "cell_type": "markdown",
   "id": "ca010494",
   "metadata": {},
   "source": [
    "![jupyter](https://raw.githubusercontent.com/Tokomeir/mat-stat/main/img/T5_simulate_vals.jpg)"
   ]
  },
  {
   "cell_type": "code",
   "execution_count": 18,
   "id": "f070d08f",
   "metadata": {
    "scrolled": true
   },
   "outputs": [
    {
     "name": "stdout",
     "output_type": "stream",
     "text": [
      "[1.0123023150210946, 1.0718146341840749, 1.0335723621696633, 1.0634722689914304, 1.090578812778421, 1.0390711748279808, 1.0717249827278572, 1.0939402327659247, 1.0832284307014852, 1.0819217018639014, 1.032698567172226, 1.1139315084893315, 1.0751639492563125, 1.0243362618463066, 1.0117101865967513, 1.0468270232628276, 1.1347666798511336, 1.0111676192211063, 1.0902904649032603, 1.0068095502164573, 1.0024979991711294, 1.0420115496891054, 1.0424641528984042, 1.0869549659231517, 1.0231246373158327, 1.0231257090653036, 1.0045263627915089, 1.0265665387674638, 1.0704617413890156, 1.0547890573127132, 1.0968804079137437, 1.035890351080633, 1.1528686528424095, 1.1324903646214768, 1.0180034666254556, 1.000937514244324, 1.0556122797266496, 1.0770266594819053, 1.133924531656394, 1.066078630485497, 1.1271676812473446, 1.0645104618075993, 1.0621911393977022, 1.0838540674435329, 1.0493606861636098, 1.0806315501435724, 1.0142348669137211, 1.127362660753974, 1.0132074154031008, 1.0087284496980673, 1.0069612422737244, 1.0414539753168006, 1.0966562676447384, 1.0358658151091373, 1.047397130084385, 1.1161830370294525, 1.008177856795894, 1.0326109792733558, 1.0190641826885167, 1.0046192354491694, 1.0650332333254835, 1.0298693492277, 1.0016870601642869, 1.0031811909716675, 1.2064790239355005, 1.045846701028066, 1.0382812938237151, 1.093917429921299, 1.004616353306744, 1.2665010285520921, 1.0392484395632098, 1.1150884606457083, 1.026093350327796, 1.0133570655925919, 1.0259931599168646, 1.0248119769660013, 1.1280639580155272, 1.1192349974489388, 1.0517906871391258, 1.0760437231569888, 1.0452252686834589, 1.005938544056397, 1.0346867474555168, 1.0968856061891685, 1.2121891204817954, 1.1232597707177105, 1.061616076890034, 1.0013737829662526, 1.0027768527805359, 1.0383928884466616, 1.0003325275707748, 1.1953450907587997, 1.0788579054941403, 1.0543724767386795, 1.0032750429133168, 1.0060587505108052, 1.0349130337003516, 1.0027167595750552, 1.019058236106693, 1.0147072634062548]\n"
     ]
    }
   ],
   "source": [
    "N = 100\n",
    "tetha = 20\n",
    "values = [randvals(x, tetha) for x in np.random.sample(N)]\n",
    "print(values)"
   ]
  },
  {
   "cell_type": "code",
   "execution_count": 19,
   "id": "03cdd684",
   "metadata": {},
   "outputs": [
    {
     "name": "stdout",
     "output_type": "stream",
     "text": [
      "ММП оценка параметра = 19.158591398157085\n"
     ]
    }
   ],
   "source": [
    "valuationMMP = 1 + N / sum([np.log(x) for x in values])\n",
    "print(f\"ММП оценка параметра = {valuationMMP}\")"
   ]
  },
  {
   "cell_type": "markdown",
   "id": "a7b98850",
   "metadata": {},
   "source": [
    "## a)"
   ]
  },
  {
   "cell_type": "markdown",
   "id": "77d8a3d4",
   "metadata": {},
   "source": [
    "![jupiter](https://raw.githubusercontent.com/Tokomeir/mat-stat/main/img/T5_a.jpg)"
   ]
  },
  {
   "cell_type": "markdown",
   "id": "1ce7ff21",
   "metadata": {},
   "source": [
    "## b)"
   ]
  },
  {
   "cell_type": "markdown",
   "id": "c76dcc3a",
   "metadata": {},
   "source": [
    "![jupiter](https://raw.githubusercontent.com/Tokomeir/mat-stat/main/img/T5_b_part1.jpg)\n",
    "![jupiter](https://raw.githubusercontent.com/Tokomeir/mat-stat/main/img/T5_b_part2.jpg)"
   ]
  },
  {
   "cell_type": "markdown",
   "id": "81200620",
   "metadata": {},
   "source": [
    "## c)"
   ]
  },
  {
   "cell_type": "markdown",
   "id": "56efabeb",
   "metadata": {},
   "source": [
    "![jupiter](https://raw.githubusercontent.com/Tokomeir/mat-stat/main/img/T5_c_part1.jpg)\n",
    "![jupiter](https://raw.githubusercontent.com/Tokomeir/mat-stat/main/img/T5_c_part2.jpg)"
   ]
  },
  {
   "cell_type": "markdown",
   "id": "77bc7fba",
   "metadata": {},
   "source": [
    "## d)"
   ]
  },
  {
   "cell_type": "markdown",
   "id": "6caf00dc",
   "metadata": {},
   "source": [
    "![jupiter](https://raw.githubusercontent.com/Tokomeir/mat-stat/main/img/T5_d.jpg)"
   ]
  },
  {
   "cell_type": "markdown",
   "id": "1c4ba3b3",
   "metadata": {},
   "source": [
    "## e)"
   ]
  },
  {
   "cell_type": "markdown",
   "id": "2267b020",
   "metadata": {},
   "source": [
    "### медиана"
   ]
  },
  {
   "cell_type": "code",
   "execution_count": 20,
   "id": "463de089",
   "metadata": {},
   "outputs": [
    {
     "name": "stdout",
     "output_type": "stream",
     "text": [
      "медиана = 1.0371550444461919\n"
     ]
    }
   ],
   "source": [
    "x_med = 2**(1/(tetha - 1))\n",
    "print(f\"медиана = {x_med}\")"
   ]
  },
  {
   "cell_type": "code",
   "execution_count": 21,
   "id": "3754bb88",
   "metadata": {},
   "outputs": [
    {
     "name": "stdout",
     "output_type": "stream",
     "text": [
      "доверительный интервал для медианы - [1.0311369681441664, 1.0466825577798] с доверительной вероятностью 0.95\n"
     ]
    }
   ],
   "source": [
    "e = 0.05\n",
    "quantil_e = 1.96\n",
    "med_interval = [2**(1 / (valuationMMP - 1))*(1 - np.log(2)*quantil_e / np.sqrt(N) / (valuationMMP - 1)), \n",
    "                2**(1 / (valuationMMP - 1))*(1 + np.log(2)*quantil_e / np.sqrt(N) / (valuationMMP - 1))]\n",
    "print(f\"доверительный интервал для медианы - {med_interval} с доверительной вероятностью {1-e}\")"
   ]
  },
  {
   "cell_type": "markdown",
   "id": "df9cfe47",
   "metadata": {},
   "source": [
    "### байесовская оценка и интервал"
   ]
  },
  {
   "cell_type": "code",
   "execution_count": 22,
   "id": "d9f55503",
   "metadata": {},
   "outputs": [
    {
     "name": "stdout",
     "output_type": "stream",
     "text": [
      "байесовская оценка параметра = 16.367982288286065\n"
     ]
    }
   ],
   "source": [
    "valuationB = 1 + N / (sum([np.log(x) for x in values]) + 1)\n",
    "print(f\"байесовская оценка параметра = {valuationB}\")"
   ]
  },
  {
   "cell_type": "code",
   "execution_count": 52,
   "id": "f2a6acf0",
   "metadata": {},
   "outputs": [],
   "source": [
    "# интервал = ??????????\n",
    "interval_B = [None, None]"
   ]
  },
  {
   "cell_type": "markdown",
   "id": "a97614f7",
   "metadata": {},
   "source": [
    "### ассимптотический доверительный интервал для параметра tetha"
   ]
  },
  {
   "cell_type": "code",
   "execution_count": 24,
   "id": "55c88672",
   "metadata": {},
   "outputs": [
    {
     "name": "stdout",
     "output_type": "stream",
     "text": [
      "ассимптотический ММP доверительный интервал - [15.599507484118297, 22.717675312195873] с доверительной вероятностью 0.95\n"
     ]
    }
   ],
   "source": [
    "MMP_interval = [valuationMMP - quantil_e * (valuationMMP - 1) / np.sqrt(N),\n",
    "               valuationMMP + quantil_e * (valuationMMP - 1) / np.sqrt(N)]\n",
    "print(f\"ассимптотический ММP доверительный интервал - {MMP_interval} с доверительной вероятностью {1-e}\")"
   ]
  },
  {
   "cell_type": "markdown",
   "id": "c84c1cb5",
   "metadata": {},
   "source": [
    "### бутстрапы"
   ]
  },
  {
   "cell_type": "markdown",
   "id": "a96712a7",
   "metadata": {},
   "source": [
    "#### непараметрический"
   ]
  },
  {
   "cell_type": "code",
   "execution_count": 35,
   "id": "6d892cf0",
   "metadata": {},
   "outputs": [],
   "source": [
    "def evaluateMMP(vals, N):\n",
    "    return 1 + N / sum([np.log(x) for x in vals])"
   ]
  },
  {
   "cell_type": "code",
   "execution_count": 37,
   "id": "ee9a2253",
   "metadata": {},
   "outputs": [
    {
     "name": "stdout",
     "output_type": "stream",
     "text": [
      "непараметрический бутстраповский доверительный интервал - [15.586387501560218, 21.88900321397573] с доверительной вероятностью 0.95\n"
     ]
    }
   ],
   "source": [
    "bootstrap_variation = np.sort(np.array([evaluateMMP(np.random.choice(values, len(values)), N) - valuationMMP for i in range(1000)]))\n",
    "bootstrap_interval = [valuationMMP - bootstrap_variation[974], valuationMMP - bootstrap_variation[24]]\n",
    "print(f\"непараметрический бутстраповский доверительный интервал - {bootstrap_interval} с доверительной вероятностью {1-e}\")"
   ]
  },
  {
   "cell_type": "markdown",
   "id": "b92b8056",
   "metadata": {},
   "source": [
    "#### параметрический"
   ]
  },
  {
   "cell_type": "code",
   "execution_count": 42,
   "id": "f19bcaa7",
   "metadata": {},
   "outputs": [
    {
     "name": "stdout",
     "output_type": "stream",
     "text": [
      "параметрический бутстраповский доверительный интервал - [16.756247085321533, 24.42609996708396] с доверительной вероятностью 0.95\n"
     ]
    }
   ],
   "source": [
    "pbootstrap_variation = np.sort(np.array([evaluateMMP([randvals(x, tetha) for x in np.random.sample(N)], N) for i in range(50000)]))\n",
    "pbootstrap_interval = [pbootstrap_variation[int(e/2*50000)], pbootstrap_variation[int((1 - e/2)*50000)]]\n",
    "print(f\"параметрический бутстраповский доверительный интервал - {pbootstrap_interval} с доверительной вероятностью {1-e}\")"
   ]
  },
  {
   "cell_type": "markdown",
   "id": "8bb3b03e",
   "metadata": {},
   "source": [
    "## g)"
   ]
  },
  {
   "cell_type": "code",
   "execution_count": 50,
   "id": "ded50bb8",
   "metadata": {},
   "outputs": [
    {
     "name": "stdout",
     "output_type": "stream",
     "text": [
      "ширина ассимптотического доверительного интервала - 7.118167828077576\n",
      "ширина непараметрического бутстраповского доверительного интервала - 6.302615712415513\n",
      "ширина параметрического бутстраповского доверительного интервала - 7.669852881762427\n"
     ]
    }
   ],
   "source": [
    "#print(f\"ширина байесовского доверительного интервала - {interval_B[1] - interval_B[0]}\")\n",
    "print(f\"ширина ассимптотического доверительного интервала - {MMP_interval[1] - MMP_interval[0]}\")\n",
    "print(f\"ширина непараметрического бутстраповского доверительного интервала - {bootstrap_interval[1] - bootstrap_interval[0]}\")\n",
    "print(f\"ширина параметрического бутстраповского доверительного интервала - {pbootstrap_interval[1] - pbootstrap_interval[0]}\")"
   ]
  },
  {
   "cell_type": "code",
   "execution_count": 51,
   "id": "ad11385a",
   "metadata": {},
   "outputs": [
    {
     "name": "stdout",
     "output_type": "stream",
     "text": [
      "непараметрический бутстраповский доверительный интервал имеет наименьшую ширину\n"
     ]
    }
   ],
   "source": [
    "print(\"непараметрический бутстраповский доверительный интервал имеет наименьшую ширину\")"
   ]
  }
 ],
 "metadata": {
  "kernelspec": {
   "display_name": "Python 3 (ipykernel)",
   "language": "python",
   "name": "python3"
  },
  "language_info": {
   "codemirror_mode": {
    "name": "ipython",
    "version": 3
   },
   "file_extension": ".py",
   "mimetype": "text/x-python",
   "name": "python",
   "nbconvert_exporter": "python",
   "pygments_lexer": "ipython3",
   "version": "3.8.13"
  }
 },
 "nbformat": 4,
 "nbformat_minor": 5
}
