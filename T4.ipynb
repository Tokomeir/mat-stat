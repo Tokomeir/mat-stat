{
 "cells": [
  {
   "cell_type": "code",
   "execution_count": 1,
   "id": "3f025a48",
   "metadata": {},
   "outputs": [],
   "source": [
    "from random import randint\n",
    "import numpy as np\n",
    "import math as m\n",
    "import matplotlib.pyplot as plt\n",
    "import matplotlib.ticker as ticker\n",
    "import statistics as st\n",
    "from scipy.stats import moment"
   ]
  },
  {
   "cell_type": "markdown",
   "id": "e5786be5",
   "metadata": {},
   "source": [
    "## a + b)"
   ]
  },
  {
   "cell_type": "markdown",
   "id": "2e6a00f1",
   "metadata": {},
   "source": [
    "![jupyter](https://raw.githubusercontent.com/Tokomeir/mat-stat/main/img/T4_a%26b_part1.jpg)\n",
    "![jupyter](https://raw.githubusercontent.com/Tokomeir/mat-stat/main/img/T4_a%26b_part2.jpg)\n",
    "![jupyter](https://raw.githubusercontent.com/Tokomeir/mat-stat/main/img/T4_a%26b_part3.jpg)\n",
    "![jupyter](https://raw.githubusercontent.com/Tokomeir/mat-stat/main/img/T4_a%26b_part4.jpg)"
   ]
  },
  {
   "cell_type": "markdown",
   "id": "50052273",
   "metadata": {},
   "source": [
    "## c)\n"
   ]
  },
  {
   "cell_type": "markdown",
   "id": "f0429b5f",
   "metadata": {},
   "source": [
    "![jupyter](https://raw.githubusercontent.com/Tokomeir/mat-stat/main/img/T4_c.jpg)"
   ]
  },
  {
   "cell_type": "markdown",
   "id": "d857c150",
   "metadata": {},
   "source": [
    "## d)"
   ]
  },
  {
   "cell_type": "markdown",
   "id": "3716a22e",
   "metadata": {},
   "source": [
    "![jupyter](https://raw.githubusercontent.com/Tokomeir/mat-stat/main/img/T4_d.jpg)"
   ]
  },
  {
   "cell_type": "markdown",
   "id": "e8c08f46",
   "metadata": {},
   "source": [
    "## e)"
   ]
  },
  {
   "cell_type": "markdown",
   "id": "2153495c",
   "metadata": {},
   "source": [
    "![jupyter](https://raw.githubusercontent.com/Tokomeir/mat-stat/main/img/T4_e_part1.jpg)\n",
    "![jupyter](https://raw.githubusercontent.com/Tokomeir/mat-stat/main/img/T4_e_part2_.jpg)\n",
    "![jupyter](https://raw.githubusercontent.com/Tokomeir/mat-stat/main/img/T4_e_part3.jpg)"
   ]
  },
  {
   "cell_type": "markdown",
   "id": "6a34a818",
   "metadata": {},
   "source": [
    "## f)"
   ]
  },
  {
   "cell_type": "code",
   "execution_count": 2,
   "id": "2ffa8305",
   "metadata": {},
   "outputs": [
    {
     "name": "stdout",
     "output_type": "stream",
     "text": [
      "tetha = 100\n",
      "[123, 177, 195, 179, 140, 182, 105, 154, 165, 144, 109, 175, 123, 122, 134, 177, 121, 198, 154, 159, 191, 116, 183, 186, 168, 150, 168, 127, 137, 124, 156, 123, 132, 195, 105, 164, 165, 173, 152, 138, 168, 111, 167, 132, 173, 107, 176, 174, 103, 175, 142, 111, 123, 172, 127, 100, 156, 183, 171, 168, 108, 102, 119, 136, 160, 196, 150, 162, 192, 177, 110, 142, 159, 106, 101, 130, 143, 114, 125, 138, 140, 109, 187, 186, 126, 152, 180, 182, 190, 177, 121, 183, 126, 156, 106, 199, 100, 161, 115, 135]\n"
     ]
    }
   ],
   "source": [
    "N = 100\n",
    "tetha = 100\n",
    "values = [randint(tetha, tetha*2) for i in range(N)]\n",
    "print(f\"tetha = {tetha}\")\n",
    "print(values)"
   ]
  },
  {
   "cell_type": "code",
   "execution_count": 3,
   "id": "744515f6",
   "metadata": {},
   "outputs": [
    {
     "name": "stdout",
     "output_type": "stream",
     "text": [
      "точный доверительный интервал - [99.51259560940491, 101.33500944564447] с доверительной вероятностью 0.95\n"
     ]
    }
   ],
   "source": [
    "e = 0.05\n",
    "accurate_interval = [max(values) / (1 + (1 - e/2)**(1 / N)), max(values)/(1 + (e / 2)**(1 / N))]\n",
    "print(f\"точный доверительный интервал - {accurate_interval} с доверительной вероятностью {1-e}\")"
   ]
  },
  {
   "cell_type": "code",
   "execution_count": 12,
   "id": "9a14c2be",
   "metadata": {},
   "outputs": [
    {
     "name": "stdout",
     "output_type": "stream",
     "text": [
      "ОММ оценка параметра = 98.85999999999999\n",
      "ассимптотический ОММ доверительный интервал - [95.06106828967229, 102.65893171032768] с доверительной вероятностью 0.95\n"
     ]
    }
   ],
   "source": [
    "quantil_e = 1.96\n",
    "valuationOMM = 2/3 * np.mean(values)\n",
    "OMM_interval = [valuationOMM - 2/3 * np.sqrt((moment(values, 2) - moment(values, 1)**2) / N) * quantil_e,\n",
    "               valuationOMM - 2/3 * np.sqrt((moment(values, 2) - moment(values, 1)**2) / N) * (-quantil_e)]\n",
    "print(f\"ОММ оценка параметра = {valuationOMM}\")\n",
    "print(f\"ассимптотический ОММ доверительный интервал - {OMM_interval} с доверительной вероятностью {1-e}\")"
   ]
  },
  {
   "cell_type": "code",
   "execution_count": 13,
   "id": "f0b62dcb",
   "metadata": {},
   "outputs": [
    {
     "name": "stdout",
     "output_type": "stream",
     "text": [
      "ММП оценка параметра = 99.9950248756219\n",
      "ассимптотический ММP доверительный интервал - [80.396, 119.59404975124379] с доверительной вероятностью 0.95\n"
     ]
    }
   ],
   "source": [
    "valuationMMP = max(values) * (N + 1) / (2 * N + 1)\n",
    "MMP_interval = [valuationMMP * (1 - quantil_e / np.sqrt(N)), valuationMMP * (1 + quantil_e / np.sqrt(N))]\n",
    "print(f\"ММП оценка параметра = {valuationMMP}\")\n",
    "print(f\"ассимптотический ММP доверительный интервал - {MMP_interval} с доверительной вероятностью {1-e}\")"
   ]
  },
  {
   "cell_type": "markdown",
   "id": "4bfbe50f",
   "metadata": {},
   "source": [
    "## g)"
   ]
  },
  {
   "cell_type": "code",
   "execution_count": 6,
   "id": "cd0b6dea",
   "metadata": {},
   "outputs": [],
   "source": [
    "def evaluateMMP(vals, N):\n",
    "    return max(vals) * (N + 1) / (2 * N + 1)"
   ]
  },
  {
   "cell_type": "code",
   "execution_count": 7,
   "id": "2e683efb",
   "metadata": {},
   "outputs": [
    {
     "name": "stdout",
     "output_type": "stream",
     "text": [
      "бутстраповский доверительный интервал - [99.9950248756219, 102.00497512437812] с доверительной вероятностью 0.95\n"
     ]
    }
   ],
   "source": [
    "# непараметрический бутстрап\n",
    "bootstrap_variation = np.sort(np.array([evaluateMMP(np.random.choice(values, len(values)), N) - valuationMMP for i in range(1000)]))\n",
    "bootstrap_interval = [valuationMMP - bootstrap_variation[974], valuationMMP - bootstrap_variation[24]]\n",
    "print(f\"бутстраповский доверительный интервал - {bootstrap_interval} с доверительной вероятностью {1-e}\")"
   ]
  },
  {
   "cell_type": "markdown",
   "id": "0983a059",
   "metadata": {},
   "source": [
    "## h)"
   ]
  },
  {
   "cell_type": "code",
   "execution_count": 14,
   "id": "08fc2745",
   "metadata": {
    "scrolled": true
   },
   "outputs": [
    {
     "name": "stdout",
     "output_type": "stream",
     "text": [
      "ширина точного доверительного интервала = 1.822413836239562\n",
      "ширина ОММ доверительного интервала - 7.597863420655386\n",
      "ширина ММP доверительного интервала - 39.198049751243786\n",
      "ширина бутстраповского доверительного интервала - 2.009950248756226\n"
     ]
    }
   ],
   "source": [
    "print(f\"ширина точного доверительного интервала = {accurate_interval[1] - accurate_interval[0]}\")\n",
    "print(f\"ширина ОММ доверительного интервала - {OMM_interval[1] - OMM_interval[0]}\")\n",
    "print(f\"ширина ММP доверительного интервала - {MMP_interval[1] - MMP_interval[0]}\")\n",
    "print(f\"ширина бутстраповского доверительного интервала - {bootstrap_interval[1] - bootstrap_interval[0]}\")"
   ]
  },
  {
   "cell_type": "code",
   "execution_count": 15,
   "id": "75b3948b",
   "metadata": {},
   "outputs": [
    {
     "name": "stdout",
     "output_type": "stream",
     "text": [
      "точный интервал имеет наименьшую ширину\n"
     ]
    }
   ],
   "source": [
    "print(\"точный интервал имеет наименьшую ширину\")"
   ]
  }
 ],
 "metadata": {
  "kernelspec": {
   "display_name": "Python 3 (ipykernel)",
   "language": "python",
   "name": "python3"
  },
  "language_info": {
   "codemirror_mode": {
    "name": "ipython",
    "version": 3
   },
   "file_extension": ".py",
   "mimetype": "text/x-python",
   "name": "python",
   "nbconvert_exporter": "python",
   "pygments_lexer": "ipython3",
   "version": "3.8.13"
  }
 },
 "nbformat": 4,
 "nbformat_minor": 5
}
