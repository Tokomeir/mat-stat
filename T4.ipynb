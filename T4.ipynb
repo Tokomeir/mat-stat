{
 "cells": [
  {
   "cell_type": "code",
   "execution_count": 1,
   "id": "3f025a48",
   "metadata": {},
   "outputs": [],
   "source": [
    "from random import randint\n",
    "import numpy as np\n",
    "import math as m\n",
    "import matplotlib.pyplot as plt\n",
    "import matplotlib.ticker as ticker\n",
    "import statistics as st\n",
    "from scipy.stats import moment"
   ]
  },
  {
   "cell_type": "markdown",
   "id": "e5786be5",
   "metadata": {},
   "source": [
    "## a + b)"
   ]
  },
  {
   "cell_type": "markdown",
   "id": "2e6a00f1",
   "metadata": {},
   "source": [
    "![jupyter](https://raw.githubusercontent.com/Tokomeir/mat-stat/main/img/T4_a%26b_part1.jpg)\n",
    "![jupyter](https://raw.githubusercontent.com/Tokomeir/mat-stat/main/img/T4_a%26b_part2.jpg)\n",
    "![jupyter](https://raw.githubusercontent.com/Tokomeir/mat-stat/main/img/T4_a%26b_part3.jpg)\n",
    "![jupyter](https://raw.githubusercontent.com/Tokomeir/mat-stat/main/img/T4_a%26b_part4.jpg)"
   ]
  },
  {
   "cell_type": "markdown",
   "id": "50052273",
   "metadata": {},
   "source": [
    "## c)\n"
   ]
  },
  {
   "cell_type": "markdown",
   "id": "f0429b5f",
   "metadata": {},
   "source": [
    "![jupyter](https://raw.githubusercontent.com/Tokomeir/mat-stat/main/img/T4_c.jpg)"
   ]
  },
  {
   "cell_type": "markdown",
   "id": "d857c150",
   "metadata": {},
   "source": [
    "## d)"
   ]
  },
  {
   "cell_type": "markdown",
   "id": "3716a22e",
   "metadata": {},
   "source": [
    "![jupyter](https://raw.githubusercontent.com/Tokomeir/mat-stat/main/img/T4_d.jpg)"
   ]
  },
  {
   "cell_type": "markdown",
   "id": "e8c08f46",
   "metadata": {},
   "source": [
    "## e)"
   ]
  },
  {
   "cell_type": "markdown",
   "id": "2153495c",
   "metadata": {},
   "source": [
    "![jupyter](https://raw.githubusercontent.com/Tokomeir/mat-stat/main/img/T4_e_part1.jpg)\n",
    "![jupyter](https://raw.githubusercontent.com/Tokomeir/mat-stat/main/img/T4_e_part2.jpg)"
   ]
  },
  {
   "cell_type": "markdown",
   "id": "6a34a818",
   "metadata": {},
   "source": [
    "## f)"
   ]
  },
  {
   "cell_type": "code",
   "execution_count": 67,
   "id": "2ffa8305",
   "metadata": {},
   "outputs": [
    {
     "name": "stdout",
     "output_type": "stream",
     "text": [
      "tetha = 100\n",
      "[115, 164, 118, 124, 171, 158, 190, 129, 139, 173, 187, 103, 151, 186, 101, 158, 110, 158, 193, 146, 179, 118, 123, 141, 166, 189, 181, 151, 100, 191, 173, 126, 175, 124, 153, 124, 142, 186, 109, 108, 136, 187, 146, 127, 128, 170, 198, 164, 196, 160, 144, 188, 194, 175, 133, 100, 166, 185, 103, 115, 121, 195, 179, 140, 165, 158, 188, 119, 118, 106, 178, 139, 148, 120, 136, 134, 114, 180, 178, 166, 148, 125, 150, 168, 110, 197, 121, 172, 191, 101, 175, 170, 182, 119, 181, 149, 194, 134, 164, 158]\n"
     ]
    }
   ],
   "source": [
    "N = 100\n",
    "tetha = 100\n",
    "values = [randint(tetha, tetha*2) for i in range(N)]\n",
    "print(f\"tetha = {tetha}\")\n",
    "print(values)"
   ]
  },
  {
   "cell_type": "code",
   "execution_count": 68,
   "id": "744515f6",
   "metadata": {},
   "outputs": [
    {
     "name": "stdout",
     "output_type": "stream",
     "text": [
      "точный доверительный интервал - [99.01253231488529, 100.82578829265128] с доверительной вероятностью 0.95\n"
     ]
    }
   ],
   "source": [
    "e = 0.05\n",
    "accurate_interval = [max(values) / (1 + (1 - e/2)**(1 / N)), max(values)/(1 + (e / 2)**(1 / N))]\n",
    "print(f\"точный доверительный интервал - {accurate_interval} с доверительной вероятностью {1-e}\")"
   ]
  },
  {
   "cell_type": "code",
   "execution_count": 69,
   "id": "9a14c2be",
   "metadata": {},
   "outputs": [
    {
     "name": "stdout",
     "output_type": "stream",
     "text": [
      "ассимптотический ОММ доверительный интервал - [97.46090014978887, 104.39243318354443] с доверительной вероятностью 0.95\n"
     ]
    }
   ],
   "source": [
    "quantil_e = 1.96\n",
    "valuationOMM = 2/3 * np.mean(values)\n",
    "OMM_interval = [valuationOMM - 2/3 * np.sqrt((moment(values, 2) - np.mean(values)) / N) * quantil_e,\n",
    "               valuationOMM - 2/3 * np.sqrt((moment(values, 2) - np.mean(values)) / N) * (-quantil_e)]\n",
    "print(f\"ассимптотический ОММ доверительный интервал - {OMM_interval} с доверительной вероятностью {1-e}\")"
   ]
  },
  {
   "cell_type": "code",
   "execution_count": 70,
   "id": "f0b62dcb",
   "metadata": {},
   "outputs": [
    {
     "name": "stdout",
     "output_type": "stream",
     "text": [
      "ассимптотический ММP доверительный интервал - [83.18774022862277, 123.746936957006] с доверительной вероятностью 0.95\n"
     ]
    }
   ],
   "source": [
    "valuationMMP = max(values) * (N + 1) / (2 * N + 1)\n",
    "MMP_interval = [valuationMMP / (1 + quantil_e / np.sqrt(N)), valuationMMP / (1 - quantil_e / np.sqrt(N))]\n",
    "print(f\"ассимптотический ММP доверительный интервал - {MMP_interval} с доверительной вероятностью {1-e}\")"
   ]
  },
  {
   "cell_type": "markdown",
   "id": "4bfbe50f",
   "metadata": {},
   "source": [
    "## g)"
   ]
  },
  {
   "cell_type": "code",
   "execution_count": 55,
   "id": "cd0b6dea",
   "metadata": {},
   "outputs": [],
   "source": [
    "def evaluateMMP(vals, N):\n",
    "    return max(vals) * (N + 1) / (2 * N + 1)"
   ]
  },
  {
   "cell_type": "code",
   "execution_count": 71,
   "id": "2e683efb",
   "metadata": {},
   "outputs": [
    {
     "name": "stdout",
     "output_type": "stream",
     "text": [
      "бутстраповский доверительный интервал - [99.49253731343283, 101.0] с доверительной вероятностью 0.95\n"
     ]
    }
   ],
   "source": [
    "# непараметрический бутстрап\n",
    "bootstrap_variation = np.sort(np.array([evaluateMMP(np.random.choice(values, len(values)), N) - valuationMMP for i in range(1000)]))\n",
    "bootstrap_interval = [valuationMMP - bootstrap_variation[974], valuationMMP - bootstrap_variation[24]]\n",
    "print(f\"бутстраповский доверительный интервал - {bootstrap_interval} с доверительной вероятностью {1-e}\")"
   ]
  },
  {
   "cell_type": "markdown",
   "id": "0983a059",
   "metadata": {},
   "source": [
    "## h)"
   ]
  },
  {
   "cell_type": "code",
   "execution_count": 73,
   "id": "08fc2745",
   "metadata": {},
   "outputs": [
    {
     "name": "stdout",
     "output_type": "stream",
     "text": [
      "ширина точного доверительного интервала = 1.8132559777659907\n",
      "ширина ОММ доверительного интервала - 6.9315330337555565\n",
      "ширина ММP доверительного интервала - 40.55919672838323\n",
      "ширина бутстраповского доверительного интервала - 1.507462686567166\n"
     ]
    }
   ],
   "source": [
    "print(f\"ширина точного доверительного интервала = {accurate_interval[1] - accurate_interval[0]}\")\n",
    "print(f\"ширина ОММ доверительного интервала - {OMM_interval[1] - OMM_interval[0]}\")\n",
    "print(f\"ширина ММP доверительного интервала - {MMP_interval[1] - MMP_interval[0]}\")\n",
    "print(f\"ширина бутстраповского доверительного интервала - {bootstrap_interval[1] - bootstrap_interval[0]}\")"
   ]
  },
  {
   "cell_type": "code",
   "execution_count": 74,
   "id": "75b3948b",
   "metadata": {},
   "outputs": [
    {
     "name": "stdout",
     "output_type": "stream",
     "text": [
      "бутстравповский интервал имеет наименьшую ширину\n"
     ]
    }
   ],
   "source": [
    "print(\"бутстравповский интервал имеет наименьшую ширину\")"
   ]
  }
 ],
 "metadata": {
  "kernelspec": {
   "display_name": "Python 3 (ipykernel)",
   "language": "python",
   "name": "python3"
  },
  "language_info": {
   "codemirror_mode": {
    "name": "ipython",
    "version": 3
   },
   "file_extension": ".py",
   "mimetype": "text/x-python",
   "name": "python",
   "nbconvert_exporter": "python",
   "pygments_lexer": "ipython3",
   "version": "3.8.13"
  }
 },
 "nbformat": 4,
 "nbformat_minor": 5
}
