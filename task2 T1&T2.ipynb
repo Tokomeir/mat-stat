{
 "cells": [
  {
   "cell_type": "code",
   "execution_count": 1,
   "id": "4bbc106a",
   "metadata": {
    "scrolled": true
   },
   "outputs": [],
   "source": [
    "import random as r\n",
    "import numpy as np\n",
    "import matplotlib.pyplot as plt\n",
    "import matplotlib.ticker as ticker\n",
    "from scipy.special import gamma\n",
    "from scipy.special import beta\n",
    "from scipy.integrate import quad\n",
    "from scipy.stats import moment"
   ]
  },
  {
   "cell_type": "code",
   "execution_count": 93,
   "id": "55e878ee",
   "metadata": {},
   "outputs": [],
   "source": [
    "class linear_reg:\n",
    "    def __init__(self, sus_matrix_factor, reaction):\n",
    "        self.factor = np.array([[1, *list(sus_matrix_factor[i])] for i in range(len(sus_matrix_factor))])\n",
    "        self.reaction = reaction\n",
    "        self.m_fisher = np.transpose(self.factor).dot(self.factor)\n",
    "        self.betta = np.linalg.inv(self.m_fisher).dot(np.transpose(self.factor)).dot(self.reaction)\n",
    "        self.e = self.reaction - self.factor.dot(self.betta)\n",
    "        self.RSS = np.transpose(self.e).dot(self.e)\n",
    "        self.TSS = np.sum((self.reaction - self.reaction.mean())**2)\n",
    "        self.R2 = (self.TSS - self.RSS) / self.TSS\n",
    "        \n",
    "    def predict(self, x):\n",
    "        sum = self.betta[0]\n",
    "        for i in range(1, self.betta.shape[0]):\n",
    "            sum += self.betta[i] * x[i - 1]\n",
    "        return sum"
   ]
  },
  {
   "cell_type": "code",
   "execution_count": 3,
   "id": "ebf6e398",
   "metadata": {},
   "outputs": [],
   "source": [
    "def rand_strange_dense(x1,x2,x3,x4,x5):\n",
    "    return np.random.normal(2+3*x1-2*x2+x3+x4-x5, 1.5)"
   ]
  },
  {
   "cell_type": "code",
   "execution_count": 16,
   "id": "36008194",
   "metadata": {},
   "outputs": [],
   "source": [
    "fisher_dense = (lambda x, d1, d2: np.sqrt((d1*x)**d1 * d2**d2 / (d1*x + d2)**(d1 + d2)) / x / beta(d1/2, d2/2))"
   ]
  },
  {
   "cell_type": "code",
   "execution_count": 29,
   "id": "b7b87569",
   "metadata": {},
   "outputs": [],
   "source": [
    "gaus = lambda x, m, sigma: 1 / np.sqrt(2*np.pi) / sigma * np.exp(-(x-m)**2/2/sigma**2)"
   ]
  },
  {
   "cell_type": "code",
   "execution_count": 23,
   "id": "a286acda",
   "metadata": {},
   "outputs": [],
   "source": [
    "stud_dense = lambda x, n: gamma(0.5 * (n + 1)) / gamma(0.5 * n) / np.sqrt(n*np.pi) / (1 + x**2 / n)**(0.5 * (n + 1))"
   ]
  },
  {
   "cell_type": "code",
   "execution_count": null,
   "id": "5943c703",
   "metadata": {},
   "outputs": [],
   "source": []
  },
  {
   "cell_type": "code",
   "execution_count": 251,
   "id": "28ab64f8",
   "metadata": {},
   "outputs": [],
   "source": [
    "alpha = 0.05"
   ]
  },
  {
   "cell_type": "markdown",
   "id": "aa9384bf",
   "metadata": {},
   "source": [
    "# T1"
   ]
  },
  {
   "cell_type": "code",
   "execution_count": 261,
   "id": "fedc07e4",
   "metadata": {},
   "outputs": [],
   "source": [
    "# генерация векторов"
   ]
  },
  {
   "cell_type": "code",
   "execution_count": 4,
   "id": "b3a01724",
   "metadata": {},
   "outputs": [],
   "source": [
    "ksi_s = [list(np.random.sample(5) * 2 - 1) for i in range(50)]"
   ]
  },
  {
   "cell_type": "code",
   "execution_count": 5,
   "id": "07490736",
   "metadata": {},
   "outputs": [],
   "source": [
    "react = np.array([rand_strange_dense(*ksi_s[i]) for i in range(len(ksi_s))])"
   ]
  },
  {
   "cell_type": "code",
   "execution_count": 269,
   "id": "f7ad7e99",
   "metadata": {
    "scrolled": true
   },
   "outputs": [],
   "source": [
    "reg = linear_reg(ksi_s, react)"
   ]
  },
  {
   "cell_type": "markdown",
   "id": "b27ff632",
   "metadata": {},
   "source": [
    "## a)"
   ]
  },
  {
   "cell_type": "code",
   "execution_count": 223,
   "id": "60ee5ce6",
   "metadata": {},
   "outputs": [
    {
     "name": "stdout",
     "output_type": "stream",
     "text": [
      "R2_ksi_1 = 0.1095389960371652\n",
      " R2_ksi_2 = 0.12043120088382755\n",
      " R2_ksi_3 = 0.0181849246127577\n",
      " R2_ksi_4 = 0.09019916668160922\n",
      " R2_ksi_5 = 0.0928784501484061\n",
      "\n",
      "мультиколлинеарности нет\n"
     ]
    }
   ],
   "source": [
    "R2_ksi_s = list()\n",
    "for i in range(5):\n",
    "    ksi_i = np.array([ksi_s[j][i] for j in range(50)])\n",
    "    mod_ksi_s = [[*ksi_s[j][0:i], *ksi_s[j][i+1:5]] for j in range(50)]\n",
    "    ksi_reg_i = linear_reg(mod_ksi_s, ksi_i)\n",
    "    R2_ksi_s.append(ksi_reg_i.R2)\n",
    "print(*[f\"R2_ksi_{i+1} = {ksi_val}\\n\" for i, ksi_val in enumerate(R2_ksi_s)])\n",
    "if (np.where(np.array(R2_ksi_s) >= 0.7)[0].shape[0] > 0):\n",
    "    print(\"есть мультиколлинеарность\")\n",
    "else:\n",
    "    print(\"мультиколлинеарности нет\")"
   ]
  },
  {
   "cell_type": "markdown",
   "id": "2cc2d6cb",
   "metadata": {},
   "source": [
    "## b)"
   ]
  },
  {
   "cell_type": "code",
   "execution_count": 295,
   "id": "269f2cd2",
   "metadata": {
    "scrolled": true
   },
   "outputs": [
    {
     "name": "stdout",
     "output_type": "stream",
     "text": [
      "eta = 2.042 + 3.233*ksi1 - 2.17*ksi2 + 1.478*ksi3 + 0.613*ksi4 - 0.822*ksi5\n"
     ]
    }
   ],
   "source": [
    "print(f\"eta =\", f\"{round(reg.betta[0], 3)}\", *[(f\"+\" if reg.betta[i] > 0 else f\"-\") + f\" {abs(round(reg.betta[i], 3))}*ksi{i}\" for i in range(1, 6)])"
   ]
  },
  {
   "cell_type": "code",
   "execution_count": 260,
   "id": "d5e44992",
   "metadata": {
    "scrolled": true
   },
   "outputs": [
    {
     "name": "stdout",
     "output_type": "stream",
     "text": [
      "beta0 значим, p-val = 0.0\n",
      " beta1 значим, p-val = 0.0\n",
      " beta2 значим, p-val = 0.0\n",
      " beta3 значим, p-val = 0.0\n",
      " beta4 незначим, p-val = 0.068\n",
      " beta5 значим, p-val = 0.015\n",
      "\n"
     ]
    }
   ],
   "source": [
    "start_values = [abs(reg.betta[i] * np.sqrt(44) / np.sqrt(reg.RSS * np.linalg.inv(reg.m_fisher)[i][i])) for i in range(6)]\n",
    "p_val_beta = list()\n",
    "for i in range(6):\n",
    "    p_val_beta.append(2*quad((lambda x: stud_dense(x, 44)), start_values[i], np.inf)[0])\n",
    "\n",
    "print(*[f\"beta{i} \" + (\"значим\" if p_val_beta[i] < alpha else \"незначим\") + f\", p-val = {round(p_val_beta[i],3)}\\n\" for i in range(6)])"
   ]
  },
  {
   "cell_type": "markdown",
   "id": "84ef419b",
   "metadata": {},
   "source": [
    "## c)"
   ]
  },
  {
   "cell_type": "code",
   "execution_count": 262,
   "id": "e0dfbcd8",
   "metadata": {
    "scrolled": false
   },
   "outputs": [
    {
     "name": "stdout",
     "output_type": "stream",
     "text": [
      "коэффициент детерминации =  0.829\n"
     ]
    }
   ],
   "source": [
    "print(\"коэффициент детерминации = \", round(reg.R2, 3))"
   ]
  },
  {
   "cell_type": "code",
   "execution_count": 281,
   "id": "0bef23f1",
   "metadata": {},
   "outputs": [
    {
     "name": "stdout",
     "output_type": "stream",
     "text": [
      "коэффициент детерминации значим, p-val =  8.8294155804958265e-16\n"
     ]
    }
   ],
   "source": [
    "start_val = reg.R2 / (1 - reg.R2) * 44 / 5\n",
    "p_val_of_determination = quad((lambda x: fisher_dense(x, 5, 44)), start_val, np.inf)[0]\n",
    "if p_val_of_determination < alpha:\n",
    "    print(\"коэффициент детерминации значим, p-val = \", p_val_of_determination)\n",
    "else:\n",
    "    print(\"коэффициент детерминации незначим\")"
   ]
  },
  {
   "cell_type": "markdown",
   "id": "ef59c869",
   "metadata": {},
   "source": [
    "## d)"
   ]
  },
  {
   "cell_type": "code",
   "execution_count": 19,
   "id": "1f92c26a",
   "metadata": {},
   "outputs": [],
   "source": [
    "b = 0.95"
   ]
  },
  {
   "cell_type": "code",
   "execution_count": 288,
   "id": "3caca3e4",
   "metadata": {},
   "outputs": [],
   "source": [
    "vec = np.array([1,0,0,0,0,0])\n",
    "val_in_zeros = reg.predict(vec[1:])\n",
    "A = 1 + vec.dot(np.linalg.inv(reg.m_fisher)).dot(np.transpose(vec))"
   ]
  },
  {
   "cell_type": "code",
   "execution_count": 24,
   "id": "aa69f4f8",
   "metadata": {},
   "outputs": [],
   "source": [
    "def find_left_edge(t_b):\n",
    "    left = -1\n",
    "    right = 0\n",
    "    while 2*quad((lambda x: stud_dense(x, 44)), -np.inf, left)[0] > t_b:\n",
    "        left *= 2\n",
    "\n",
    "    epsilon = 0.0001\n",
    "    while True:\n",
    "        integral = 2*quad((lambda x: stud_dense(x, 44)), -np.inf, 0.5 * (left + right))[0]\n",
    "        if integral > t_b:\n",
    "            right = 0.5 * (left + right)\n",
    "        else:\n",
    "            left = 0.5 * (left + right)\n",
    "            \n",
    "        if abs(integral - t_b) < epsilon:\n",
    "            break\n",
    "            \n",
    "    return 0.5 * (left + right)"
   ]
  },
  {
   "cell_type": "code",
   "execution_count": 277,
   "id": "3064d772",
   "metadata": {},
   "outputs": [
    {
     "name": "stdout",
     "output_type": "stream",
     "text": [
      "значение в точки 0 =  2.041957070453671\n",
      "доверительный интервал = (-0.342, 5.288)\n"
     ]
    }
   ],
   "source": [
    "left_edge = find_left_edge((1 - b) / 2)\n",
    "right_edge = abs(left_edge)\n",
    "interval = [(val_in_zeros - right_edge) * np.sqrt(A*reg.RSS/44), (val_in_zeros - left_edge) * np.sqrt(A*reg.RSS/44)]\n",
    "print(\"значение в точки 0 = \", val_in_zeros)\n",
    "print(f\"доверительный интервал = ({round(interval[0], 3)}, {round(interval[1], 3)})\")"
   ]
  },
  {
   "cell_type": "markdown",
   "id": "a7066e83",
   "metadata": {},
   "source": [
    "## e)"
   ]
  },
  {
   "cell_type": "code",
   "execution_count": 282,
   "id": "308d5da5",
   "metadata": {},
   "outputs": [
    {
     "name": "stdout",
     "output_type": "stream",
     "text": [
      "ошибки измерения независимы\n"
     ]
    }
   ],
   "source": [
    "I = 0\n",
    "for i in range(reg.e.shape[0]):\n",
    "    for j in range(i+1, reg.e.shape[0]):\n",
    "        if reg.e[i] > reg.e[j]:\n",
    "            I += 1\n",
    "vval = (I - 50*49/4) / np.sqrt(50**3/36)\n",
    "er_p_val = 2 * quad((lambda x: gaus(x, 0, 1)), abs(vval), np.inf)[0]\n",
    "if (er_p_val >= alpha):\n",
    "    print(\"ошибки измерения независимы\")\n",
    "else:\n",
    "    print(\"ошибки измерения зависимы, p-val = \", er_p_val)"
   ]
  },
  {
   "cell_type": "markdown",
   "id": "4ff82c78",
   "metadata": {},
   "source": [
    "## f)"
   ]
  },
  {
   "cell_type": "code",
   "execution_count": 38,
   "id": "b90d756b",
   "metadata": {
    "scrolled": true
   },
   "outputs": [],
   "source": [
    "N = 50000\n",
    "e = reg.e.copy()\n",
    "e.sort()\n",
    "er_m = reg.e.mean()\n",
    "er_sigma = np.sqrt(moment(e, 2))\n",
    "delta = np.sqrt(50)*max([abs(quad(lambda x: gaus(x, er_m, er_sigma), -np.inf, el)[0] - (np.where(e < el)[0][-1] + 1)/50) for el in e[1:]] + [abs(quad(lambda x: gaus(x, er_m, er_sigma), -np.inf, el)[0] - (np.where(e <= el)[0][-1]+1)/50) for el in e])\n",
    "bootstrap_deltas = list()\n",
    "for i in range(N):\n",
    "    new_es = np.random.normal(er_m, er_sigma, 50)\n",
    "    new_er_m = new_es.mean()\n",
    "    new_er_sigma = np.sqrt(moment(reg.e, 2))\n",
    "    new_es.sort()\n",
    "    bootstrap_deltas.append(np.sqrt(50)*max([abs(quad(lambda x: gaus(x, new_er_m, new_er_sigma), -np.inf, el)[0] - (np.where(new_es < el)[0][-1] + 1)/50) for el in new_es[1:]] + [abs(quad(lambda x: gaus(x, new_er_m, new_er_sigma), -np.inf, el)[0] - (np.where(new_es <= el)[0][-1]+1)/50) for el in new_es]))\n",
    "    \n",
    "bootstrap_deltas = np.array(bootstrap_deltas)\n",
    "bootstrap_deltas.sort()\n",
    "k = np.where(bootstrap_deltas < delta)[0][-1]\n",
    "er_norm_p_val = 1 - (k)/N"
   ]
  },
  {
   "cell_type": "code",
   "execution_count": 283,
   "id": "82c1389c",
   "metadata": {},
   "outputs": [
    {
     "name": "stdout",
     "output_type": "stream",
     "text": [
      "распределение ошибок нормально\n"
     ]
    }
   ],
   "source": [
    "if er_norm_p_val >= alpha:\n",
    "    print(\"распределение ошибок нормально\")\n",
    "else:\n",
    "    print(\"распределение ошибок не нормально, p-val = \", er_norm_p_val)"
   ]
  },
  {
   "cell_type": "markdown",
   "id": "82312ba0",
   "metadata": {},
   "source": [
    "## g)"
   ]
  },
  {
   "cell_type": "code",
   "execution_count": 284,
   "id": "d4615898",
   "metadata": {
    "scrolled": true
   },
   "outputs": [
    {
     "name": "stdout",
     "output_type": "stream",
     "text": [
      "36  - выброс\n",
      "39  - выброс\n"
     ]
    }
   ],
   "source": [
    "errors = abs(reg.e.copy())\n",
    "doubled_err_sigma = 2*np.median(errors) / 0.675\n",
    "for i in range(50):\n",
    "    if (errors[i] >= doubled_err_sigma):\n",
    "        print(i, \" - выброс\")"
   ]
  },
  {
   "cell_type": "markdown",
   "id": "73f899f8",
   "metadata": {},
   "source": [
    "## h)"
   ]
  },
  {
   "cell_type": "code",
   "execution_count": 286,
   "id": "a2c9fe0f",
   "metadata": {},
   "outputs": [
    {
     "name": "stdout",
     "output_type": "stream",
     "text": [
      "R2_CV =  0.7851519433353783\n"
     ]
    }
   ],
   "source": [
    "CVSS = 0\n",
    "for i in range(50):\n",
    "    cross_ksi_s_i = ksi_s[:i] + ksi_s[i + 1:]\n",
    "    cross_react = np.array(list(react[:i]) + list(react[i + 1:]))\n",
    "    control_ksi_i = ksi_s[i]\n",
    "    control_react = react[i]\n",
    "    cross_reg = linear_reg(cross_ksi_s_i, cross_react)\n",
    "    CVSS += (control_react - cross_reg.predict(control_ksi_i))**2\n",
    "R2_CV = (reg.TSS - CVSS) / reg.TSS\n",
    "print(\"R2_CV = \", R2_CV)"
   ]
  },
  {
   "cell_type": "markdown",
   "id": "911f5933",
   "metadata": {},
   "source": [
    "## i)"
   ]
  },
  {
   "cell_type": "code",
   "execution_count": 287,
   "id": "93fbe640",
   "metadata": {},
   "outputs": [
    {
     "name": "stdout",
     "output_type": "stream",
     "text": [
      "модель адекватна\n"
     ]
    }
   ],
   "source": [
    "# возьмём точку x = [-0.5,0.5,-0.5,0.5,-0.5]\n",
    "test_x = [-0.5, 0.5, -0.5, 0.5, -0.5]\n",
    "test_y = [rand_strange_dense(*test_x) for i in range(5)]\n",
    "strange_sigma = moment(test_y, 2)\n",
    "delta_v = reg.RSS / 44 / strange_sigma**2\n",
    "p_val = quad((lambda x: fisher_dense(x, 44, 4)), delta_v, np.inf)[0]\n",
    "\n",
    "if p_val >= alpha:\n",
    "    print(\"модель адекватна\")\n",
    "else:\n",
    "    print(\"модель не адекватна\")"
   ]
  },
  {
   "cell_type": "markdown",
   "id": "d766e434",
   "metadata": {},
   "source": [
    "## j)"
   ]
  },
  {
   "cell_type": "code",
   "execution_count": 302,
   "id": "2bb04a1d",
   "metadata": {},
   "outputs": [
    {
     "name": "stdout",
     "output_type": "stream",
     "text": [
      "удаляем 5 коэффициент\n",
      "eta = 2.058 + 3.073*ksi1 - 2.231*ksi2 + 1.519*ksi3 - 0.77*ksi4\n"
     ]
    }
   ],
   "source": [
    "del_ind = p_val_beta.index(max(p_val_beta))\n",
    "print(F\"удаляем {del_ind+1} коэффициент\")\n",
    "new_ksi_s = [[*ksi_s[i][:del_ind - 1], *ksi_s[i][del_ind:]] for i in range(50)]\n",
    "new_j_reg = linear_reg(new_ksi_s, react)\n",
    "print(f\"eta =\", f\"{round(new_j_reg.betta[0], 3)}\", *[(f\"+\" if new_j_reg.betta[i] > 0 else f\"-\") + f\" {abs(round(new_j_reg.betta[i], 3))}*ksi{i}\" for i in range(1, 5)])"
   ]
  },
  {
   "cell_type": "code",
   "execution_count": 297,
   "id": "d9b5fcae",
   "metadata": {},
   "outputs": [
    {
     "name": "stdout",
     "output_type": "stream",
     "text": [
      "beta0 значим, p-val = 0.0\n",
      " beta1 значим, p-val = 0.0\n",
      " beta2 значим, p-val = 0.0\n",
      " beta3 значим, p-val = 0.0\n",
      " beta4 значим, p-val = 0.024\n",
      "\n"
     ]
    }
   ],
   "source": [
    "new_j_start_values = [abs(new_j_reg.betta[i] * np.sqrt(45) / np.sqrt(new_j_reg.RSS * np.linalg.inv(new_j_reg.m_fisher)[i][i])) for i in range(5)]\n",
    "new_j_p_val_beta = list()\n",
    "for i in range(5):\n",
    "    new_j_p_val_beta.append(2*quad((lambda x: stud_dense(x, 45)), new_j_start_values[i], np.inf)[0])\n",
    "\n",
    "print(*[f\"beta{i} \" + (\"значим\" if new_j_p_val_beta[i] < alpha else \"незначим\") + f\", p-val = {round(new_j_p_val_beta[i],3)}\\n\" for i in range(5)])"
   ]
  },
  {
   "cell_type": "code",
   "execution_count": 298,
   "id": "49bcfae9",
   "metadata": {},
   "outputs": [
    {
     "name": "stdout",
     "output_type": "stream",
     "text": [
      "коэффициент детерминации =  0.815\n"
     ]
    }
   ],
   "source": [
    "print(\"коэффициент детерминации = \", round(new_j_reg.R2, 3))"
   ]
  },
  {
   "cell_type": "code",
   "execution_count": 299,
   "id": "2e37934e",
   "metadata": {},
   "outputs": [
    {
     "name": "stdout",
     "output_type": "stream",
     "text": [
      "коэффициент детерминации значим, p-val =  6.1411825165783155e-16\n"
     ]
    }
   ],
   "source": [
    "new_j_start_val = new_j_reg.R2 / (1 - new_j_reg.R2) * 45 / 4\n",
    "new_j_p_val_of_determination = quad((lambda x: fisher_dense(x, 4, 45)), new_j_start_val, np.inf)[0]\n",
    "\n",
    "if new_j_p_val_of_determination < alpha:\n",
    "    print(\"коэффициент детерминации значим, p-val = \", new_j_p_val_of_determination)\n",
    "else:\n",
    "    print(\"коэффициент детерминации незначим\")"
   ]
  },
  {
   "cell_type": "code",
   "execution_count": 301,
   "id": "1662b48c",
   "metadata": {},
   "outputs": [
    {
     "name": "stdout",
     "output_type": "stream",
     "text": [
      "нет оснований отвергнуть гипотезу о том, что усложнение модели регрессии не является значимым\n"
     ]
    }
   ],
   "source": [
    "comp_delta = (new_j_reg.RSS - reg.RSS) / reg.RSS * (50 - 6) / (6 - 5)\n",
    "comp_p_val = quad((lambda x: fisher_dense(x, 6 - 5, 50 - 6)), comp_delta, np.inf)[0]\n",
    "\n",
    "if comp_p_val >= alpha:\n",
    "    print(\"нет оснований отвергнуть гипотезу о том, что усложнение модели регрессии не является значимым\")\n",
    "else:\n",
    "    print(\"отвергаем гипотезу о том, что усложнение модели регрессии не является значимым, p-val = \", comp_p_val)"
   ]
  },
  {
   "cell_type": "markdown",
   "id": "993babde",
   "metadata": {},
   "source": [
    "## k)"
   ]
  },
  {
   "cell_type": "code",
   "execution_count": 310,
   "id": "51246224",
   "metadata": {},
   "outputs": [
    {
     "name": "stdout",
     "output_type": "stream",
     "text": [
      "нет оснований отвергнуть гипотезу о том, что усложнение модели регрессии не является значимым\n"
     ]
    }
   ],
   "source": [
    "comp_deltas = list()\n",
    "for i in range(1000):\n",
    "    i_i = np.random.randint(0, 50, 50)\n",
    "    comp_ksi_s = [ksi_s[j] for j in i_i]\n",
    "    comp_react = np.array([react[j] for j in i_i])\n",
    "    comp_old_reg = linear_reg(comp_ksi_s, comp_react)\n",
    "    \n",
    "    new_j_i_i = np.random.randint(0, 50, 50)\n",
    "    comp_new_j_ksi_s = [new_ksi_s[j] for j in new_j_i_i]\n",
    "    comp_new_j_react = np.array([react[j] for j in new_j_i_i])\n",
    "    comp_new_reg = linear_reg(comp_new_j_ksi_s, comp_new_j_react)\n",
    "    \n",
    "    comp_deltas.append((comp_new_reg.RSS - comp_old_reg.RSS) / comp_old_reg.RSS * (50 - 6) / (6 - 5))\n",
    "    \n",
    "comp_deltas = np.array(comp_deltas)\n",
    "comp_deltas.sort()\n",
    "k = np.where(comp_deltas < comp_delta)[0][-1]\n",
    "b_comp_p_val = 1 - (k)/N\n",
    "\n",
    "if b_comp_p_val >= alpha:\n",
    "    print(\"нет оснований отвергнуть гипотезу о том, что усложнение модели регрессии не является значимым\")\n",
    "else:\n",
    "    print(\"отвергаем гипотезу о том, что усложнение модели регрессии не является значимым, p-val = \", b_comp_p_val)"
   ]
  },
  {
   "cell_type": "code",
   "execution_count": null,
   "id": "c2618d00",
   "metadata": {},
   "outputs": [],
   "source": []
  },
  {
   "cell_type": "markdown",
   "id": "d308b5a9",
   "metadata": {},
   "source": [
    "# T2"
   ]
  },
  {
   "cell_type": "code",
   "execution_count": 357,
   "id": "08d704fa",
   "metadata": {},
   "outputs": [],
   "source": [
    "class linear_reg2:\n",
    "    def __init__(self, sus_matrix_factor, reaction):\n",
    "        self.factor = np.array(sus_matrix_factor)\n",
    "        self.reaction = reaction\n",
    "        self.m_fisher = np.transpose(self.factor).dot(self.factor)\n",
    "        self.betta = np.linalg.inv(self.m_fisher).dot(np.transpose(self.factor)).dot(self.reaction)\n",
    "        self.e = self.reaction - self.factor.dot(self.betta)\n",
    "        self.RSS = np.transpose(self.e).dot(self.e)\n",
    "        self.TSS = np.sum((self.reaction - self.reaction.mean())**2)\n",
    "        self.R2 = (self.TSS - self.RSS) / self.TSS\n",
    "        \n",
    "    def predict(self, x):\n",
    "        for i in range(self.betta.shape[0]):\n",
    "            sum += self.betta[i] * x[i - 1]\n",
    "        return sum"
   ]
  },
  {
   "cell_type": "code",
   "execution_count": 355,
   "id": "96312dc7",
   "metadata": {},
   "outputs": [],
   "source": [
    "array = [[83, 85],\n",
    "         [84,85,85,86,86,87],\n",
    "         [86,87,87,87,88,88,88,88,88,89,90],\n",
    "         [89,90,90,91],\n",
    "         [90,92]]\n",
    "N = sum([len(array[i]) for i in range(len(array))])\n",
    "\n",
    "ksi_s = list()\n",
    "for i in range(len(array)):\n",
    "    for j in range(len(array[i])):\n",
    "        a = np.zeros(5, dtype = int)\n",
    "        a[i] += 1\n",
    "        ksi_s.append(list(a))\n",
    "\n",
    "react = list()\n",
    "for i in range(len(array)):\n",
    "    react += array[i]\n",
    "react = np.array(react)"
   ]
  },
  {
   "cell_type": "code",
   "execution_count": 358,
   "id": "ca77495c",
   "metadata": {},
   "outputs": [],
   "source": [
    "reg2 = linear_reg2(ksi_s, react)"
   ]
  },
  {
   "cell_type": "code",
   "execution_count": 376,
   "id": "537c78fd",
   "metadata": {},
   "outputs": [],
   "source": [
    "reg2_inv_m_fisher = np.linalg.inv(reg2.m_fisher)"
   ]
  },
  {
   "cell_type": "code",
   "execution_count": 366,
   "id": "e7cc7714",
   "metadata": {},
   "outputs": [
    {
     "name": "stdout",
     "output_type": "stream",
     "text": [
      "eta = 84.0*ksi1 + 85.5*ksi2 + 87.818*ksi3 + 90.0*ksi4 + 91.0*ksi5\n"
     ]
    }
   ],
   "source": [
    "print(f\"eta =\", f\"{round(reg2.betta[0], 3)}*ksi1\", *[(f\"+\" if reg2.betta[i] > 0 else f\"-\") + f\" {abs(round(reg2.betta[i], 3))}*ksi{i+1}\" for i in range(1, 5)])"
   ]
  },
  {
   "cell_type": "markdown",
   "id": "ebfe5634",
   "metadata": {},
   "source": [
    "## a)"
   ]
  },
  {
   "cell_type": "code",
   "execution_count": 367,
   "id": "f64539bb",
   "metadata": {},
   "outputs": [
    {
     "name": "stdout",
     "output_type": "stream",
     "text": [
      "коэффициент детерминации =  0.811\n"
     ]
    }
   ],
   "source": [
    "print(\"коэффициент детерминации = \", round(reg2.R2, 3))"
   ]
  },
  {
   "cell_type": "code",
   "execution_count": 375,
   "id": "ff50c8e2",
   "metadata": {
    "scrolled": true
   },
   "outputs": [
    {
     "name": "stdout",
     "output_type": "stream",
     "text": [
      "коэффициент детерминации значим, p-val =  5.407410946440232e-07 \n",
      " => возраст влияет на содержание иммуноглоублина\n"
     ]
    }
   ],
   "source": [
    "start_val = reg2.R2 / (1 - reg2.R2) * (N - reg2.betta.shape[0]) / (reg2.betta.shape[0] - 1)\n",
    "p_val_of_determination = quad((lambda x: fisher_dense(x, reg2.betta.shape[0] - 1, N - reg2.betta.shape[0])), start_val, np.inf)[0]\n",
    "if p_val_of_determination < alpha:\n",
    "    print(\"коэффициент детерминации значим, p-val = \", p_val_of_determination, \"\\n => возраст влияет на содержание иммуноглоублина\")\n",
    "else:\n",
    "    print(\"коэффициент детерминации незначим\")"
   ]
  },
  {
   "cell_type": "markdown",
   "id": "99cc6407",
   "metadata": {},
   "source": [
    "## b)"
   ]
  },
  {
   "cell_type": "code",
   "execution_count": 380,
   "id": "47b0ba01",
   "metadata": {},
   "outputs": [
    {
     "name": "stdout",
     "output_type": "stream",
     "text": [
      "среднее 1 можно считать равным среднему 2\n",
      "среднее 1 нельзя считать равным среднему 3  p-val =  0.00017\n",
      "среднее 1 нельзя считать равным среднему 4  p-val =  0.0\n",
      "среднее 1 нельзя считать равным среднему 5  p-val =  0.0\n",
      "среднее 2 нельзя считать равным среднему 3  p-val =  0.0004\n",
      "среднее 2 нельзя считать равным среднему 4  p-val =  0.0\n",
      "среднее 2 нельзя считать равным среднему 5  p-val =  0.0\n",
      "среднее 3 нельзя считать равным среднему 4  p-val =  0.00239\n",
      "среднее 3 нельзя считать равным среднему 5  p-val =  0.001\n",
      "среднее 4 можно считать равным среднему 5\n"
     ]
    }
   ],
   "source": [
    "for i in range(reg2.betta.shape[0]):\n",
    "    for j in range(i + 1, reg2.betta.shape[0]):\n",
    "        start_val_i_j = abs(np.sqrt((N - reg2.betta.shape[0]) / reg2.RSS / (reg2_inv_m_fisher[i][i] + reg2_inv_m_fisher[j][j])) * (reg2.betta[i] - reg2.betta[j]))\n",
    "        p_val_i_j = 2*quad((lambda x: stud_dense(x, N - reg2.betta.shape[0])), start_val_i_j, np.inf)[0]\n",
    "        if p_val_i_j < alpha:\n",
    "            print(f\"среднее {i + 1} нельзя считать равным среднему {j + 1}\", \" p-val = \", round(p_val_i_j, 5))\n",
    "        else:\n",
    "            print(f\"среднее {i + 1} можно считать равным среднему {j + 1}\")"
   ]
  }
 ],
 "metadata": {
  "kernelspec": {
   "display_name": "Python 3 (ipykernel)",
   "language": "python",
   "name": "python3"
  },
  "language_info": {
   "codemirror_mode": {
    "name": "ipython",
    "version": 3
   },
   "file_extension": ".py",
   "mimetype": "text/x-python",
   "name": "python",
   "nbconvert_exporter": "python",
   "pygments_lexer": "ipython3",
   "version": "3.8.13"
  }
 },
 "nbformat": 4,
 "nbformat_minor": 5
}
